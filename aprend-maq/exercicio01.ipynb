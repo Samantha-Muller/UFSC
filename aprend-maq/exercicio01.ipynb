{
  "nbformat": 4,
  "nbformat_minor": 0,
  "metadata": {
    "colab": {
      "provenance": []
    },
    "kernelspec": {
      "name": "python3",
      "display_name": "Python 3"
    }
  },
  "cells": [
    {
      "cell_type": "markdown",
      "metadata": {
        "id": "n9tALs4xVhkB"
      },
      "source": [
        "# **Introdução**"
      ]
    },
    {
      "cell_type": "markdown",
      "metadata": {
        "id": "Qksfq4rWV923"
      },
      "source": [
        "O objetivo desse exercício é de praticar os comandos básicos de Python.\n",
        "\n",
        "Pesquise sobre os comandos da linguagem de programação Python para completar os códigos nas respectivas células."
      ]
    },
    {
      "cell_type": "markdown",
      "source": [
        "1.- Solicite um nome de usuário e imprima o nome na tela.\n",
        "Dica: usar o comando 'input'."
      ],
      "metadata": {
        "id": "6Tp1ruaV31DK"
      }
    },
    {
      "cell_type": "code",
      "metadata": {
        "id": "BogCAZHYV85o",
        "colab": {
          "base_uri": "https://localhost:8080/"
        },
        "outputId": "12f6d0bb-11a4-45c3-f0e4-6314007d7636"
      },
      "source": [
        "# Qual seu nome: _fulano_\n",
        "# Seu nome é fulano\n",
        "\n",
        "nome = input(\"Qual seu nome: \")\n",
        "print(f\"Seu nome é {nome}\")"
      ],
      "execution_count": null,
      "outputs": [
        {
          "output_type": "stream",
          "name": "stdout",
          "text": [
            "Qual seu nome: Leno\n",
            "Seu nome é Leno\n"
          ]
        }
      ]
    },
    {
      "cell_type": "markdown",
      "metadata": {
        "id": "WMGU7gLp2_WF"
      },
      "source": [
        "# **Operadores Matemáticos**\n",
        "\n",
        "\n",
        "2.- Solicite dois números ao usuário e escrever o codigo python para as seguintes operadores matemáticos e imprima o resultados na tela (usar uma célula para cada operador matemático):\n",
        "- Soma de dois números\n",
        "- Substração de dois números\n",
        "- Multiplicaçao de dois números\n",
        "- Divisão de dois números\n",
        "- Potenciação n1^n2\n",
        "- Raiz quadrada de n1 (pode usar potenciação)\n",
        "- Divisão inteira\n",
        "- Módulo da divisão\n",
        "\n",
        "\n",
        "\n",
        "n1=input('Ingresse o 1ro número:')\n",
        "\n",
        "n2=input('Ingresse o 2do número:')\n"
      ]
    },
    {
      "cell_type": "code",
      "source": [
        "n1=int(input('Digite o 1ro número:'))\n",
        "n2=int(input('Digite o 2do número:'))\n",
        "\n",
        "soma = n1 + n2\n",
        "print(f\"Soma: {soma}\")"
      ],
      "metadata": {
        "id": "GHStuS0f5izL",
        "colab": {
          "base_uri": "https://localhost:8080/"
        },
        "outputId": "5fe7235e-de79-4637-dc6d-a09781dc5d35"
      },
      "execution_count": null,
      "outputs": [
        {
          "output_type": "stream",
          "name": "stdout",
          "text": [
            "Digite o 1ro número:1\n",
            "Digite o 2do número:2\n",
            "Soma: 12\n"
          ]
        }
      ]
    },
    {
      "cell_type": "code",
      "source": [
        "n1=int(input('Digite o 1ro número:'))\n",
        "n2=int(input('Digite o 2do número:'))\n",
        "\n",
        "sub = n1 - n2\n",
        "print(f\"Subtração: {sub}\")"
      ],
      "metadata": {
        "id": "7T0f1MEk9_gJ"
      },
      "execution_count": null,
      "outputs": []
    },
    {
      "cell_type": "code",
      "source": [
        "n1=int(input('Digite o 1ro número:'))\n",
        "n2=int(input('Digite o 2do número:'))\n",
        "\n",
        "prod = n1 * n2\n",
        "print(f\"Produto: {prod}\")"
      ],
      "metadata": {
        "id": "6MPH-RFa-E92"
      },
      "execution_count": null,
      "outputs": []
    },
    {
      "cell_type": "code",
      "source": [
        "n1=int(input('Digite o 1ro número:'))\n",
        "n2=int(input('Digite o 2do número:'))\n",
        "\n",
        "div = n1 / n2\n",
        "print(f\"Razao: {div}\")"
      ],
      "metadata": {
        "id": "1tw-h1Pm-Dgv",
        "colab": {
          "base_uri": "https://localhost:8080/"
        },
        "outputId": "0d41131b-9376-4ed5-fcb1-b38e4d7195ca"
      },
      "execution_count": null,
      "outputs": [
        {
          "output_type": "stream",
          "name": "stdout",
          "text": [
            "Digite o 1ro número:10\n",
            "Digite o 2do número:2\n",
            "Razao: 5.0\n"
          ]
        }
      ]
    },
    {
      "cell_type": "code",
      "source": [
        "n1=int(input('Digite o 1ro número:'))\n",
        "n2=int(input('Digite o 2do número:'))\n",
        "\n",
        "pot = n1 ** n2\n",
        "print(f\"Potencia: {pot}\")"
      ],
      "metadata": {
        "id": "s7iAJvxh-CxD",
        "colab": {
          "base_uri": "https://localhost:8080/"
        },
        "outputId": "26ecb9bf-97de-4742-b107-d2e3be019641"
      },
      "execution_count": null,
      "outputs": [
        {
          "output_type": "stream",
          "name": "stdout",
          "text": [
            "Digite o 1ro número:2\n",
            "Digite o 2do número:3\n",
            "Potencia: 8\n"
          ]
        }
      ]
    },
    {
      "cell_type": "code",
      "source": [
        "n1=int(input('Digite o 1ro número:'))\n",
        "\n",
        "raiz = n1 ** (1/2)\n",
        "print(f\"Raiz quadrada: {raiz}\")"
      ],
      "metadata": {
        "id": "AieAkwxO-CCP",
        "colab": {
          "base_uri": "https://localhost:8080/"
        },
        "outputId": "3b620a96-153b-4fc6-c2d5-0a7bbb178b2c"
      },
      "execution_count": null,
      "outputs": [
        {
          "output_type": "stream",
          "name": "stdout",
          "text": [
            "Digite o 1ro número:9\n",
            "Raiz quadrada: 3.0\n"
          ]
        }
      ]
    },
    {
      "cell_type": "code",
      "source": [
        "n1=int(input('Digite o 1ro número:'))\n",
        "n2=int(input('Digite o 2do número:'))\n",
        "\n",
        "\n",
        "divInt = n1 // n2\n",
        "print(f\"Divisao inteira: {divInt}\")"
      ],
      "metadata": {
        "id": "z-KILKBR-BS2",
        "colab": {
          "base_uri": "https://localhost:8080/"
        },
        "outputId": "fdcd582a-ed51-48ef-da00-6cd17930ac20"
      },
      "execution_count": null,
      "outputs": [
        {
          "output_type": "stream",
          "name": "stdout",
          "text": [
            "Digite o 1ro número:5\n",
            "Digite o 2do número:3\n",
            "Divisao inteira: 1\n"
          ]
        }
      ]
    },
    {
      "cell_type": "code",
      "source": [
        "n1=int(input('Digite o 1ro número:'))\n",
        "n2=int(input('Digite o 2do número:'))\n",
        "\n",
        "\n",
        "mod = n1 % n2\n",
        "print(f\"Modulo da divisao: {mod}\")"
      ],
      "metadata": {
        "id": "1E9LI2r3-Akd",
        "colab": {
          "base_uri": "https://localhost:8080/"
        },
        "outputId": "a4d2711d-5482-4255-8ae8-0988644bdac0"
      },
      "execution_count": null,
      "outputs": [
        {
          "output_type": "stream",
          "name": "stdout",
          "text": [
            "Digite o 1ro número:5\n",
            "Digite o 2do número:3\n",
            "Modulo da divisao: 2\n"
          ]
        }
      ]
    },
    {
      "cell_type": "markdown",
      "metadata": {
        "id": "D9dOFbLX59pv"
      },
      "source": [
        "# **Importações de bibliotecas (pacotes) e módulos**"
      ]
    },
    {
      "cell_type": "markdown",
      "source": [
        "3.1.- Importar a biblioteca math e calcular a raiz quadrada e o factorial de um número usando as funçôes \"sqrt\" e \"factorial\".\n",
        "\n",
        "Imprima os resultados na tela."
      ],
      "metadata": {
        "id": "rr8AXLTx3h7V"
      }
    },
    {
      "cell_type": "code",
      "metadata": {
        "id": "5cO9u1vDuwFq",
        "colab": {
          "base_uri": "https://localhost:8080/"
        },
        "outputId": "5735deda-3be6-4750-e59b-e1153404f9a8"
      },
      "source": [
        "from math import sqrt, factorial\n",
        "\n",
        "n1=int(input('Digite um numero qualquer: '))\n",
        "raiz = sqrt(n1)\n",
        "fac = factorial(n1)\n",
        "print(f\"Raiz quadrada: {raiz}\")\n",
        "print(f\"Fatorial: {fac}\")"
      ],
      "execution_count": null,
      "outputs": [
        {
          "output_type": "stream",
          "name": "stdout",
          "text": [
            "Digite um numero qualquer: 4\n",
            "Raiz quadrada: 2.0\n",
            "Fatorial: 24\n"
          ]
        }
      ]
    },
    {
      "cell_type": "markdown",
      "source": [
        "3.2.- Importar a biblioteca \"random\" e gerar um número aleatorio inteiro."
      ],
      "metadata": {
        "id": "WMVZF48t5RDr"
      }
    },
    {
      "cell_type": "code",
      "source": [
        "from random import randint\n",
        "\n",
        "numero = randint(0, 100)\n",
        "print(f\"Numero aleatorio: {numero}\")"
      ],
      "metadata": {
        "id": "U4oFvzau5f-l",
        "colab": {
          "base_uri": "https://localhost:8080/"
        },
        "outputId": "1257fc1b-8ce1-4f4c-ac74-6c4db3ef1b7a"
      },
      "execution_count": null,
      "outputs": [
        {
          "output_type": "stream",
          "name": "stdout",
          "text": [
            "Numero aleatorio: 96\n"
          ]
        }
      ]
    },
    {
      "cell_type": "markdown",
      "metadata": {
        "id": "S0D7LUH87yT_"
      },
      "source": [
        "# **Estrutura condicional**"
      ]
    },
    {
      "cell_type": "markdown",
      "metadata": {
        "id": "1z1BpFdSoEP3"
      },
      "source": [
        "4.- Calcular o maior de 3 números usando a estrutura condicional:\n",
        "\n",
        "if\n",
        "else\n",
        "elif\n",
        "\n",
        "\n",
        "Exemplo: n1=4, n2=9, n3=20\n",
        "\n",
        "O número maior é 20"
      ]
    },
    {
      "cell_type": "code",
      "metadata": {
        "id": "PscLlibJ8A-P",
        "colab": {
          "base_uri": "https://localhost:8080/"
        },
        "outputId": "6e43730c-efe5-4e73-d1f6-04f527ba0c42"
      },
      "source": [
        "n1=int(input('Digite o 1ro número:'))\n",
        "n2=int(input('Digite o 2do número:'))\n",
        "n3=int(input('Digite o 3ro número:'))\n",
        "\n",
        "if n1 >= n2 and n1 >= n3:\n",
        "  num = n1\n",
        "elif n2 >= n1 and n2 >= n3:\n",
        "  num = n2\n",
        "else:\n",
        "  num = n3\n",
        "\n",
        "print(f\"O número maior é {num}\")\n"
      ],
      "execution_count": null,
      "outputs": [
        {
          "output_type": "stream",
          "name": "stdout",
          "text": [
            "Digite o 1ro número:12\n",
            "Digite o 2do número:18\n",
            "Digite o 3ro número:3\n",
            "O número maior é 18\n"
          ]
        }
      ]
    },
    {
      "cell_type": "markdown",
      "metadata": {
        "id": "zYMDxIsTog20"
      },
      "source": [
        "# **Estrutura de Repetição**"
      ]
    },
    {
      "cell_type": "markdown",
      "metadata": {
        "id": "6UzQZL5JoqSM"
      },
      "source": [
        "5.- Crie uma lista de números. Percorra a lista e imprima na tela os números da lista multiplicados por dois e a soma total desses números.\n",
        "Usar uma estrutura de repetição.\n",
        "\n",
        "\"for\" ou \"while\"\n",
        "\n",
        "Exemplo: lista=[4 5 9 0 2 3]\n",
        "\n",
        "8\n",
        "\n",
        "10\n",
        "\n",
        "18\n",
        "\n",
        "0\n",
        "\n",
        "4\n",
        "\n",
        "6\n",
        "\n",
        "A soma total é 46.\n"
      ]
    },
    {
      "cell_type": "code",
      "metadata": {
        "id": "H-m31UA8ovSt",
        "colab": {
          "base_uri": "https://localhost:8080/"
        },
        "outputId": "35b992a0-a6d9-4360-f840-52e3122abf97"
      },
      "source": [
        "lista = [4, 5, 9, 0, 2, 3]\n",
        "soma = 0\n",
        "for numero in lista:\n",
        "  print(numero*2)\n",
        "  soma = soma + numero*2\n",
        "\n",
        "print(f\"A soma total é {soma}\")"
      ],
      "execution_count": null,
      "outputs": [
        {
          "output_type": "stream",
          "name": "stdout",
          "text": [
            "8\n",
            "10\n",
            "18\n",
            "0\n",
            "4\n",
            "6\n",
            "A soma total é 46\n"
          ]
        }
      ]
    },
    {
      "cell_type": "markdown",
      "metadata": {
        "id": "zsJIT1D5u_fc"
      },
      "source": [
        "# **Listas, Tuplas e Dicionários**"
      ]
    },
    {
      "cell_type": "markdown",
      "metadata": {
        "id": "SdbTnj1KvM3b"
      },
      "source": [
        "**LISTAS**\n",
        "\n",
        "6.- Crie uma lista de números e realize as seguintes operações sobre a lista:\n",
        "(deve usar uma célula para cada operação)\n",
        "\n",
        "a) Atribuir um novo valor na posição 3.\n",
        "\n",
        "b) Adicionar um novo valor no final da lista\n",
        "\n",
        "c) ordenar ascendentemente os elementos da lista\n",
        "\n",
        "d) remova o elemento na posição 3, usar a função \"pop\"\n",
        "\n",
        "\n",
        "Exemplo: lista=[2, 5, 7, 9]\n",
        "\n",
        "a) [2, 5, 7, 4]\n",
        "\n",
        "b) [2, 5, 7, 4, 8]\n",
        "\n",
        "c) [2, 4, 5, 7, 8]"
      ]
    },
    {
      "cell_type": "code",
      "metadata": {
        "id": "fo4dZTcFw2z1",
        "colab": {
          "base_uri": "https://localhost:8080/"
        },
        "outputId": "06a6afe3-55d5-4b5a-9cd7-0217ff7bf626"
      },
      "source": [
        "lista=[2, 5, 7, 9]\n",
        "print(lista)\n",
        "\n",
        "lista[3] = 500000321\n",
        "print(f\"a) {lista}\")"
      ],
      "execution_count": null,
      "outputs": [
        {
          "output_type": "stream",
          "name": "stdout",
          "text": [
            "[2, 5, 7, 9]\n",
            "a) [2, 5, 7, 500000321]\n"
          ]
        }
      ]
    },
    {
      "cell_type": "code",
      "source": [
        "lista.append(471)\n",
        "print(f\"b) {lista}\")"
      ],
      "metadata": {
        "colab": {
          "base_uri": "https://localhost:8080/"
        },
        "id": "tY7U6hA4BUn_",
        "outputId": "13379f2f-002f-42b7-dd08-a08b1ce54ead"
      },
      "execution_count": null,
      "outputs": [
        {
          "output_type": "stream",
          "name": "stdout",
          "text": [
            "b) [2, 5, 7, 500000321, 471]\n"
          ]
        }
      ]
    },
    {
      "cell_type": "code",
      "source": [
        "lista.sort()\n",
        "print(f\"c) {lista}\")"
      ],
      "metadata": {
        "colab": {
          "base_uri": "https://localhost:8080/"
        },
        "id": "Bagkiz_TBU0n",
        "outputId": "7244ba1a-663b-4243-fac5-3e6abb683fb7"
      },
      "execution_count": null,
      "outputs": [
        {
          "output_type": "stream",
          "name": "stdout",
          "text": [
            "c) [2, 5, 7, 471, 500000321]\n"
          ]
        }
      ]
    },
    {
      "cell_type": "markdown",
      "metadata": {
        "id": "UZ7wtvhjywTz"
      },
      "source": [
        "**TUPLAS**"
      ]
    },
    {
      "cell_type": "markdown",
      "metadata": {
        "id": "dEFU0DGDgEwz"
      },
      "source": [
        "Uma tupla é imutável.\n",
        "\n",
        "7.- defina uma tupla e imprima na tela."
      ]
    },
    {
      "cell_type": "code",
      "metadata": {
        "id": "gydwsEq-xyvM",
        "colab": {
          "base_uri": "https://localhost:8080/"
        },
        "outputId": "5b676ba8-e4a1-49a1-a816-85f2538a4540"
      },
      "source": [
        "ola_mundo = (\"olá\", \"mundo!\")\n",
        "print(ola_mundo)"
      ],
      "execution_count": 1,
      "outputs": [
        {
          "output_type": "stream",
          "name": "stdout",
          "text": [
            "('olá', 'mundo!')\n"
          ]
        }
      ]
    },
    {
      "cell_type": "markdown",
      "metadata": {
        "id": "Nayqp9rby0kZ"
      },
      "source": [
        "**DICIONÁRIOS**\n",
        "\n",
        "8.- Dicionário é uma estrutra de chave-valor.\n",
        "\n",
        "a) Defina um dicionario e imprima-o na tela.\n",
        "\n",
        "b) Adicione um novo campo chave-valor no dicionário.\n",
        "\n"
      ]
    },
    {
      "cell_type": "code",
      "metadata": {
        "id": "YaEdF0kly9FQ",
        "colab": {
          "base_uri": "https://localhost:8080/"
        },
        "outputId": "087451f0-4cce-4a5e-b7bf-357e4e0fc42a"
      },
      "source": [
        "cadastro = {\"nome\": \"Fulano\", \"idade\": 35}\n",
        "print(cadastro)"
      ],
      "execution_count": 2,
      "outputs": [
        {
          "output_type": "stream",
          "name": "stdout",
          "text": [
            "{'nome': 'Fulano', 'idade': 35}\n"
          ]
        }
      ]
    },
    {
      "cell_type": "code",
      "metadata": {
        "id": "iVQVWZkXz-OH",
        "colab": {
          "base_uri": "https://localhost:8080/"
        },
        "outputId": "bbe1d3b8-9133-4c81-d848-d2a358f06d7a"
      },
      "source": [
        "cadastro[\"cpf\"] = \"123.456.789-10\"\n",
        "print(cadastro)"
      ],
      "execution_count": 4,
      "outputs": [
        {
          "output_type": "stream",
          "name": "stdout",
          "text": [
            "{'nome': 'Fulano', 'idade': 35, 'cpf': '123.456.789-10'}\n"
          ]
        }
      ]
    },
    {
      "cell_type": "markdown",
      "metadata": {
        "id": "ZIFE-DwhkB_K"
      },
      "source": [
        "# **Funções**\n",
        "\n",
        "9.- Defina uma função para determinar o maior de dois números.\n",
        "\n",
        "Exemplo:\n",
        "\n",
        "def maior(x,y):\n",
        "  ...\n",
        "\n",
        "maior(4,9)\n",
        "\n",
        "O maior número é 9.\n"
      ]
    },
    {
      "cell_type": "code",
      "metadata": {
        "id": "QBXbsMyJmQzm",
        "colab": {
          "base_uri": "https://localhost:8080/"
        },
        "outputId": "725ae3c3-9a43-4af7-8947-6d51d43a5116"
      },
      "source": [
        "def maior(x, y):\n",
        "  if x >= y:\n",
        "    maior = x\n",
        "  else:\n",
        "    maior = y\n",
        "  print(f\"O maior número é {maior}\")\n",
        "\n",
        "\n",
        "maior(41, 75)\n",
        "maior(41, 14)"
      ],
      "execution_count": null,
      "outputs": [
        {
          "output_type": "stream",
          "name": "stdout",
          "text": [
            "O maior número é 75\n",
            "O maior número é 41\n"
          ]
        }
      ]
    },
    {
      "cell_type": "markdown",
      "metadata": {
        "id": "uxCpeYoKDdd9"
      },
      "source": [
        "# **Vetores (arrays) e matrizes**"
      ]
    },
    {
      "cell_type": "markdown",
      "metadata": {
        "id": "RvI6SyjG5zjX"
      },
      "source": [
        "10.- Importar a biblioteca numpy e criar 1 array unidimensional (vetor) e 1 array bidimensional (matriz).\n",
        "IMprima o vetor e a matriz na tela.\n",
        "\n",
        "Exemplo:\n",
        "\n",
        "Matriz\n",
        "\n",
        "1  2  3\n",
        "\n",
        "4  5  6\n",
        "\n",
        "7  8  9\n",
        "\n",
        "Vetor\n",
        "\n",
        "1  2  3  4\n"
      ]
    },
    {
      "cell_type": "code",
      "source": [
        "import numpy\n"
      ],
      "metadata": {
        "id": "X4LHfDsUB4-J"
      },
      "execution_count": null,
      "outputs": []
    },
    {
      "cell_type": "code",
      "metadata": {
        "id": "TAWr5vcXE3Ri",
        "colab": {
          "base_uri": "https://localhost:8080/"
        },
        "outputId": "ee29c8cf-f83d-4354-a1a9-d171537d523b"
      },
      "source": [
        "vetor = numpy.array([23124, 665, 98676, 123])\n",
        "print(vetor)"
      ],
      "execution_count": null,
      "outputs": [
        {
          "output_type": "stream",
          "name": "stdout",
          "text": [
            "[23124   665 98676   123]\n"
          ]
        }
      ]
    },
    {
      "cell_type": "code",
      "metadata": {
        "id": "wTr4TDHhE7gq",
        "colab": {
          "base_uri": "https://localhost:8080/"
        },
        "outputId": "d093173b-65d1-4ecc-c07c-c6dde76bf6fb"
      },
      "source": [
        "vetor = numpy.array([[500123, 899132], [112, 6892]])\n",
        "print(vetor)"
      ],
      "execution_count": null,
      "outputs": [
        {
          "output_type": "stream",
          "name": "stdout",
          "text": [
            "[[500123 899132]\n",
            " [   112   6892]]\n"
          ]
        }
      ]
    }
  ]
}