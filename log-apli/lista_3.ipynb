{
  "nbformat": 4,
  "nbformat_minor": 0,
  "metadata": {
    "colab": {
      "provenance": []
    },
    "kernelspec": {
      "name": "python3",
      "display_name": "Python 3"
    },
    "language_info": {
      "name": "python"
    }
  },
  "cells": [
    {
      "cell_type": "markdown",
      "source": [
        "# Lista 3"
      ],
      "metadata": {
        "id": "KC1uqaxpw1CQ"
      }
    },
    {
      "cell_type": "markdown",
      "source": [
        "### Exercicio 3"
      ],
      "metadata": {
        "id": "wRjvYD_qw9ZE"
      }
    },
    {
      "cell_type": "code",
      "source": [
        "peso = int(input(\"Digite o peso: \"))\n",
        "altura = float(input(\"Digite a altura: \"))\n",
        "\n",
        "IMC = peso / (altura * altura)\n",
        "print(f\"Seu IMC é {IMC:.2f}\")\n",
        "\n",
        "if IMC < 18.5:\n",
        "    print(\"Abaixo do peso\")\n",
        "elif IMC > 18.5 and IMC <= 25:\n",
        "    print(\"Peso ideal\")\n",
        "elif IMC > 25 and IMC <= 30:\n",
        "    print (\"Sobrepeso\")\n",
        "elif IMC > 30 and IMC <= 40:\n",
        "    print (\"Obesidade\")\n",
        "elif IMC > 40:\n",
        "    print (\"Obesidade mórbida\")"
      ],
      "metadata": {
        "colab": {
          "base_uri": "https://localhost:8080/"
        },
        "id": "Tcck88HMw30K",
        "outputId": "b71fda98-d57a-4ae5-de78-27e578f8dc5c"
      },
      "execution_count": 1,
      "outputs": [
        {
          "output_type": "stream",
          "name": "stdout",
          "text": [
            "Digite o peso: 70\n",
            "Digite a altura: 1.8\n",
            "Seu IMC é 21.60\n",
            "Peso ideal\n"
          ]
        }
      ]
    },
    {
      "cell_type": "markdown",
      "source": [
        "## Exercicio 5"
      ],
      "metadata": {
        "id": "RXQkJaHmxPe1"
      }
    },
    {
      "cell_type": "code",
      "source": [
        "valorHora = int(input(\"Digite o valor da hora de trabalho: \"))\n",
        "qtdHoras = int(input(\"Digite a quantidade de horas trabalhadas: \"))\n",
        "\n",
        "salarioBruto = valorHora * qtdHoras\n",
        "inss = salarioBruto * 0.1\n",
        "fgts = salarioBruto * 0.11\n",
        "\n",
        "if salarioBruto <= 900:\n",
        "    irPercento = 0\n",
        "elif salarioBruto > 900 and salarioBruto <= 1500:\n",
        "    irPercento = 0.05\n",
        "elif salarioBruto > 1500 and salarioBruto <= 2500:\n",
        "    irPercento = 0.1\n",
        "elif salarioBruto > 2500:\n",
        "    irPercento = 0.2\n",
        "\n",
        "irDesconto = salarioBruto * irPercento\n",
        "\n",
        "totalDesc = irDesconto + inss + fgts\n",
        "salarioLiquido = salarioBruto - totalDesc\n",
        "\n",
        "print(f\"Salário Bruto: ({qtdHoras} * {valorHora}): R$ {salarioBruto:.2f}\")\n",
        "print(f\"(-) IR ({irPercento*100}%): R$ {irDesconto:.2f}\")\n",
        "print(f\"(-) INSS (10%): R$ {inss:.2f}\")\n",
        "print(f\"FGTS (11%): R$ {fgts:.2f}\")\n",
        "print(f\"Total de Descontos: R$ {totalDesc:.2f} \")\n",
        "print(f\"Salário Líquido: R$ {salarioLiquido:.2f}\")"
      ],
      "metadata": {
        "id": "4lO1UbpjxkrA"
      },
      "execution_count": null,
      "outputs": []
    },
    {
      "cell_type": "markdown",
      "source": [
        "## Exercicio 6"
      ],
      "metadata": {
        "id": "sumPSG4txodk"
      }
    },
    {
      "cell_type": "code",
      "source": [
        "nota1 = float(input(\"Digite a nota 1: \"))\n",
        "if nota1 > 10.0 or nota1 < 0:\n",
        "    print(\"A nota deve ser um valor entre 0 e 10\")\n",
        "    exit()\n",
        "\n",
        "nota2 = float(input(\"Digite a nota 2: \"))\n",
        "if nota2 > 10.0 or nota2 < 0:\n",
        "    print(\"A nota deve ser um valor entre 0 e 10.0\")\n",
        "    exit()\n",
        "\n",
        "media = (nota1 + nota2)/2\n",
        "\n",
        "if media >= 9.0 and media <= 10.0:\n",
        "    conceito = \"A\"\n",
        "elif media >= 7.5 and media <= 9.0:\n",
        "    conceito = \"B\"\n",
        "elif media >= 6.0 and media <= 7.5:\n",
        "    conceito = \"C\"\n",
        "elif media >= 4.0 and media <= 6.0:\n",
        "    conceito = \"D\"\n",
        "elif media >= 0 and media <= 4.0:\n",
        "    conceito = \"E\"\n",
        "\n",
        "print(f\"A sua média é: {media:.1f}\")\n",
        "print(f\"Seu conceito é: {conceito}\")"
      ],
      "metadata": {
        "id": "iB8IlsJPxvwe"
      },
      "execution_count": null,
      "outputs": []
    },
    {
      "cell_type": "markdown",
      "source": [
        "## Exercicio 7"
      ],
      "metadata": {
        "id": "3ZZ0zp42x3nw"
      }
    },
    {
      "cell_type": "code",
      "source": [
        "print(\"Isso é um interrogatório, você precisa responder a cinco perguntas sobre o assassinato do fulano de tal.\")\n",
        "print(\"Digite S para responder 'sim' e N para responder 'não'\")\n",
        "\n",
        "contador = 0\n",
        "\n",
        "questaoA = input(\"Telefonou para a vítima? \")\n",
        "if questaoA == \"S\":\n",
        "    contador = contador + 1\n",
        "elif questaoA != \"N\":\n",
        "    print(\"Digite S ou N\")\n",
        "    exit()\n",
        "\n",
        "questaoB = input(\"Esteve no local do crime? \")\n",
        "if questaoB == \"S\":\n",
        "    contador = contador + 1\n",
        "elif questaoB != \"N\":\n",
        "    print(\"Digite S ou N\")\n",
        "    exit()\n",
        "\n",
        "questaoC = input(\"Mora perto da vítima? \")\n",
        "if questaoC == \"S\":\n",
        "    contador = contador + 1\n",
        "elif questaoC != \"N\":\n",
        "    print(\"Digite S ou N\")\n",
        "    exit()\n",
        "\n",
        "questaoD = input(\"Devia para a vítima? \")\n",
        "if questaoD == \"S\":\n",
        "    contador = contador + 1\n",
        "elif questaoD != \"N\":\n",
        "    print(\"Digite S ou N\")\n",
        "    exit()\n",
        "\n",
        "questaoE = input(\"Já trabalhou com a vítima? \")\n",
        "if questaoE == \"S\":\n",
        "    contador = contador + 1\n",
        "elif questaoE != \"N\":\n",
        "    print(\"Digite S ou N\")\n",
        "    exit()\n",
        "\n",
        "if contador == 2:\n",
        "    print(\"Você foi clasificado como suspeito.\")\n",
        "elif contador == 3 or contador == 4:\n",
        "    print(\"Você foi classificado como cúmplice. \")\n",
        "elif contador == 5:\n",
        "    print(\"Você é o assassino!\")\n",
        "else:\n",
        "    print(\"Você é inocente!\")"
      ],
      "metadata": {
        "id": "LW6b_95Ox6es"
      },
      "execution_count": null,
      "outputs": []
    },
    {
      "cell_type": "markdown",
      "source": [
        "# Lista 4"
      ],
      "metadata": {
        "id": "hbgPTH98yDGe"
      }
    },
    {
      "cell_type": "markdown",
      "source": [
        "## Exercicio 4"
      ],
      "metadata": {
        "id": "AeS-2YtpyGGt"
      }
    },
    {
      "cell_type": "code",
      "source": [
        "numeroPessoas = int(input(\"Digite o número de alunos na turma: \"))\n",
        "if numeroPessoas <= 0:\n",
        "    print(\"ERRO: número de alunos deve ser um inteiro maior que zero\")\n",
        "    exit()\n",
        "\n",
        "somatorioIdades = 0\n",
        "for pessoa in range(numeroPessoas):\n",
        "    idade = int(input(f\"Digite a idade ({pessoa + 1}): \"))\n",
        "    if idade <= 0:\n",
        "        print(\"ERRO: idade deve ser um inteiro maior que zero\")\n",
        "        exit()\n",
        "    somatorioIdades = somatorioIdades + idade\n",
        "\n",
        "mediaIdade = somatorioIdades / numeroPessoas\n",
        "print(f\"A media das idades da turma é de {mediaIdade:.2f}\")\n",
        "\n",
        "if mediaIdade <= 25:\n",
        "    categoria = \"jovem\"\n",
        "elif mediaIdade <= 60:\n",
        "    categoria = \"adulta\"\n",
        "else:\n",
        "    categoria = \"idosa\"\n",
        "\n",
        "print(f\"Categoria da turma: {categoria}\")"
      ],
      "metadata": {
        "id": "9Vsuq62MyLme"
      },
      "execution_count": null,
      "outputs": []
    },
    {
      "cell_type": "markdown",
      "source": [
        "## Exercicio 5"
      ],
      "metadata": {
        "id": "ed3cTyJkyMZW"
      }
    },
    {
      "cell_type": "code",
      "source": [
        "numInicio = int(input(\"Digite o numero inicial: \"))\n",
        "numFim = int(input(\"Digite o numero final: \"))\n",
        "\n",
        "if numInicio >= numFim:\n",
        "    print(\"ERRO: numero final deve ser maior que o numero inicial\")\n",
        "\n",
        "total = 0\n",
        "for numero in range(numInicio, numFim):\n",
        "    print(numero)\n",
        "    total = total + numero\n",
        "\n",
        "print(f\"Soma dos numeros: {total}\")"
      ],
      "metadata": {
        "id": "XWpSv4bYyRJy"
      },
      "execution_count": null,
      "outputs": []
    },
    {
      "cell_type": "markdown",
      "source": [
        "## Exercicio 6"
      ],
      "metadata": {
        "id": "0ggUAOwnyUj9"
      }
    },
    {
      "cell_type": "code",
      "source": [
        "alunos = []\n",
        "melhorAluno = [\"\", 0.0, 0.]\n",
        "for alunoNumero in range(5):\n",
        "    nome = input(f\"Digite o nome do aluno ({alunoNumero + 1}): \")\n",
        "    media = float(input(f\"Digite a media geral ({alunoNumero + 1}): \"))\n",
        "    valorMensalidade = float(input(f\"Digite o valor da mensalidade ({alunoNumero + 1}): \"))\n",
        "    alunos.append([nome, media, valorMensalidade])\n",
        "\n",
        "for aluno in alunos:\n",
        "    if aluno[1] > melhorAluno[1]:\n",
        "        melhorAluno = aluno\n",
        "\n",
        "desconto = melhorAluno[2] * 0.3\n",
        "\n",
        "print(f\"Aluno com melhor media: {melhorAluno[0]}\")\n",
        "print(f\"Media do melhor aluno: {melhorAluno[1]}\")\n",
        "print(f\"Valor da mensalidade (sem desconto): {melhorAluno[2]}\")\n",
        "print(f\"Valor da mensalidade (com desconto): {melhorAluno[2] - desconto}\")"
      ],
      "metadata": {
        "id": "lbJnVDxcydNs"
      },
      "execution_count": null,
      "outputs": []
    },
    {
      "cell_type": "markdown",
      "source": [
        "## Exercicio 8"
      ],
      "metadata": {
        "id": "6D7MNSYUyiqQ"
      }
    },
    {
      "cell_type": "code",
      "source": [
        "alunos = []\n",
        "melhorAluno = [\"\", 0.0]\n",
        "for alunoNumero in range(5):\n",
        "    nome = input(f\"Digite o nome do aluno ({alunoNumero + 1}): \")\n",
        "    nota1 = float(input(f\"Digite a primeira nota ({alunoNumero + 1}): \"))\n",
        "    nota2 = float(input(f\"Digite a segunda nota ({alunoNumero + 1}): \"))\n",
        "    nota3 = float(input(f\"Digite a terceira nota ({alunoNumero + 1}): \"))\n",
        "    media = (nota1 + nota2 + nota3) / 3\n",
        "    alunos.append([nome, media])\n",
        "\n",
        "for aluno in alunos:\n",
        "    if aluno[1] > melhorAluno[1]:\n",
        "        melhorAluno = aluno\n",
        "\n",
        "if melhorAluno[1] >= 5.75:\n",
        "    conceito = \"APROVADO\"\n",
        "elif melhorAluno[1] >= 2.75:\n",
        "    conceito = \"EM RECUPERAÇÃO\"\n",
        "else:\n",
        "    conceito = \"REPROVADO\"\n",
        "print(f\"Aluno com melhor media: {melhorAluno[0]}\")\n",
        "print(f\"Media do melhor aluno: {melhorAluno[1]}\")\n",
        "print(f\"Conceito: {conceito}\")"
      ],
      "metadata": {
        "id": "R44YTyGCyqGl"
      },
      "execution_count": null,
      "outputs": []
    },
    {
      "cell_type": "markdown",
      "source": [
        "## Exercicio 10"
      ],
      "metadata": {
        "id": "BGwavciby2Wx"
      }
    },
    {
      "cell_type": "code",
      "source": [
        "# Exercicio 1\n",
        "anoBissexto = 2004\n",
        "while anoBissexto <= 2096:\n",
        "    print(anoBissexto)\n",
        "    anoBissexto = anoBissexto + 4\n"
      ],
      "metadata": {
        "id": "BpXiGA_Ny46v"
      },
      "execution_count": null,
      "outputs": []
    },
    {
      "cell_type": "code",
      "source": [
        "# Exercicio 2\n",
        "numeroImpar = 1\n",
        "while numeroImpar < 50:\n",
        "    print(numeroImpar)\n",
        "    numeroImpar = numeroImpar + 2"
      ],
      "metadata": {
        "id": "NlW83W9uzHLf"
      },
      "execution_count": null,
      "outputs": []
    },
    {
      "cell_type": "code",
      "source": [
        "# Exercicio 3\n",
        "totalPares = 0\n",
        "totalImpares = 0\n",
        "indicador = 1\n",
        "while indicador <= 5:\n",
        "    numero = int(input(f\"Digite um numero inteiro qualquer ({indicador}): \"))\n",
        "    if numero % 2 == 0:\n",
        "        totalPares = totalPares + 1\n",
        "    else:\n",
        "        totalImpares = totalImpares + 1\n",
        "    indicador = indicador + 1\n",
        "\n",
        "print(f\"Total de numeros pares: {totalPares}\")\n",
        "print(f\"Total de numeros impares: {totalImpares}\")"
      ],
      "metadata": {
        "id": "J6u2njRnzOB2"
      },
      "execution_count": null,
      "outputs": []
    },
    {
      "cell_type": "code",
      "source": [
        "# Exercicio 4\n",
        "numeroPessoas = int(input(\"Digite o número de alunos na turma: \"))\n",
        "if numeroPessoas <= 0:\n",
        "    print(\"ERRO: número de alunos deve ser um inteiro maior que zero\")\n",
        "    exit()\n",
        "\n",
        "somatorioIdades = 0\n",
        "indicadorPessoa = 1\n",
        "while indicadorPessoa <= numeroPessoas:\n",
        "    idade = int(input(f\"Digite a idade ({indicadorPessoa}): \"))\n",
        "    if idade <= 0:\n",
        "        print(\"ERRO: idade deve ser um inteiro maior que zero\")\n",
        "        exit()\n",
        "    somatorioIdades = somatorioIdades + idade\n",
        "    indicadorPessoa = indicadorPessoa + 1\n",
        "\n",
        "mediaIdade = somatorioIdades / numeroPessoas\n",
        "print(f\"A media das idades da turma é de {mediaIdade:.2f}\")\n",
        "\n",
        "if mediaIdade <= 25:\n",
        "    categoria = \"jovem\"\n",
        "elif mediaIdade <= 60:\n",
        "    categoria = \"adulta\"\n",
        "else:\n",
        "    categoria = \"idosa\"\n",
        "\n",
        "print(f\"Categoria da turma: {categoria}\")"
      ],
      "metadata": {
        "id": "5KWKL8fizTu2"
      },
      "execution_count": null,
      "outputs": []
    }
  ]
}