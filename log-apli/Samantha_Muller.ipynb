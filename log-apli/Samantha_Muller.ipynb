{
 "nbformat": 4,
 "nbformat_minor": 0,
 "metadata": {
  "colab": {
   "provenance": []
  },
  "kernelspec": {
   "name": "python3",
   "language": "python",
   "display_name": "Python 3 (ipykernel)"
  },
  "language_info": {
   "name": "python"
  }
 },
 "cells": [
  {
   "cell_type": "markdown",
   "source": [
    "\n",
    "\n",
    "## **Prova de Lógica Aplicada I**\n",
    "Aluno: Samantha Muller -\n",
    "21/05/2024.\n"
   ],
   "metadata": {
    "id": "BBFvJRPqLl2K"
   }
  },
  {
   "cell_type": "markdown",
   "source": [
    "Questão 1"
   ],
   "metadata": {
    "id": "fxY6T2ExL66Q"
   }
  },
  {
   "cell_type": "code",
   "source": [
    "def soma(inicio, fim):\n",
    "    intervalo = range(inicio, fim + 1)\n",
    "    impares = list(filter(lambda x: x % 2 != 0, intervalo))\n",
    "\n",
    "    return impares, sum(impares)\n",
    "\n",
    "def calcula_intervalo():\n",
    "    input_intervalo = input(\"Digite o intervalo: \")\n",
    "    inicio, fim = [int(x) for x in input_intervalo.split(sep=' ')]\n",
    "    impares, total = soma(inicio, fim)\n",
    "    print(\"Números ímpares do intervalo:\", impares)\n",
    "    print(\"Soma do intervalo:\", total)\n",
    "\n",
    "def inicio_programa():\n",
    "    calcula_intervalo()\n",
    "    while True:\n",
    "        continuar = input(\"Deseja continuar: \")\n",
    "        if continuar == 'N':\n",
    "            break\n",
    "        elif continuar == 'S':\n",
    "            calcula_intervalo()\n",
    "        else:\n",
    "            print(\"Digite S ou N!\")\n",
    "            continue\n",
    "\n",
    "inicio_programa()\n",
    "\n"
   ],
   "metadata": {
    "id": "mWkE-G5fL9Sa",
    "ExecuteTime": {
     "end_time": "2024-05-21T22:00:38.281796575Z",
     "start_time": "2024-05-21T21:59:50.204043787Z"
    }
   },
   "execution_count": 7,
   "outputs": [
    {
     "name": "stdout",
     "output_type": "stream",
     "text": [
      "Números ímpares do intervalo: [11, 13, 15]\n",
      "Soma do intervalo: 39\n"
     ]
    },
    {
     "ename": "ValueError",
     "evalue": "invalid literal for int() with base 10: 'N'",
     "output_type": "error",
     "traceback": [
      "\u001B[0;31m---------------------------------------------------------------------------\u001B[0m",
      "\u001B[0;31mValueError\u001B[0m                                Traceback (most recent call last)",
      "Cell \u001B[0;32mIn[7], line 25\u001B[0m\n\u001B[1;32m     22\u001B[0m             \u001B[38;5;28mprint\u001B[39m(\u001B[38;5;124m\"\u001B[39m\u001B[38;5;124mDigite S ou N!\u001B[39m\u001B[38;5;124m\"\u001B[39m)\n\u001B[1;32m     23\u001B[0m             \u001B[38;5;28;01mcontinue\u001B[39;00m\n\u001B[0;32m---> 25\u001B[0m \u001B[43minicio_programa\u001B[49m\u001B[43m(\u001B[49m\u001B[43m)\u001B[49m\n",
      "Cell \u001B[0;32mIn[7], line 20\u001B[0m, in \u001B[0;36minicio_programa\u001B[0;34m()\u001B[0m\n\u001B[1;32m     18\u001B[0m     \u001B[38;5;28;01mbreak\u001B[39;00m\n\u001B[1;32m     19\u001B[0m \u001B[38;5;28;01melif\u001B[39;00m continuar \u001B[38;5;241m==\u001B[39m \u001B[38;5;124m'\u001B[39m\u001B[38;5;124mS\u001B[39m\u001B[38;5;124m'\u001B[39m:\n\u001B[0;32m---> 20\u001B[0m     \u001B[43mcalcula_intervalo\u001B[49m\u001B[43m(\u001B[49m\u001B[43m)\u001B[49m\n\u001B[1;32m     21\u001B[0m \u001B[38;5;28;01melse\u001B[39;00m:\n\u001B[1;32m     22\u001B[0m     \u001B[38;5;28mprint\u001B[39m(\u001B[38;5;124m\"\u001B[39m\u001B[38;5;124mDigite S ou N!\u001B[39m\u001B[38;5;124m\"\u001B[39m)\n",
      "Cell \u001B[0;32mIn[7], line 10\u001B[0m, in \u001B[0;36mcalcula_intervalo\u001B[0;34m()\u001B[0m\n\u001B[1;32m      8\u001B[0m \u001B[38;5;28;01mdef\u001B[39;00m \u001B[38;5;21mcalcula_intervalo\u001B[39m():\n\u001B[1;32m      9\u001B[0m     input_intervalo \u001B[38;5;241m=\u001B[39m \u001B[38;5;28minput\u001B[39m(\u001B[38;5;124m\"\u001B[39m\u001B[38;5;124mDigite o intervalo: \u001B[39m\u001B[38;5;124m\"\u001B[39m)\n\u001B[0;32m---> 10\u001B[0m     inicio, fim \u001B[38;5;241m=\u001B[39m \u001B[43m[\u001B[49m\u001B[38;5;28;43mint\u001B[39;49m\u001B[43m(\u001B[49m\u001B[43mx\u001B[49m\u001B[43m)\u001B[49m\u001B[43m \u001B[49m\u001B[38;5;28;43;01mfor\u001B[39;49;00m\u001B[43m \u001B[49m\u001B[43mx\u001B[49m\u001B[43m \u001B[49m\u001B[38;5;129;43;01min\u001B[39;49;00m\u001B[43m \u001B[49m\u001B[43minput_intervalo\u001B[49m\u001B[38;5;241;43m.\u001B[39;49m\u001B[43msplit\u001B[49m\u001B[43m(\u001B[49m\u001B[43msep\u001B[49m\u001B[38;5;241;43m=\u001B[39;49m\u001B[38;5;124;43m'\u001B[39;49m\u001B[38;5;124;43m \u001B[39;49m\u001B[38;5;124;43m'\u001B[39;49m\u001B[43m)\u001B[49m\u001B[43m]\u001B[49m\n\u001B[1;32m     11\u001B[0m     soma(inicio, fim)\n",
      "Cell \u001B[0;32mIn[7], line 10\u001B[0m, in \u001B[0;36m<listcomp>\u001B[0;34m(.0)\u001B[0m\n\u001B[1;32m      8\u001B[0m \u001B[38;5;28;01mdef\u001B[39;00m \u001B[38;5;21mcalcula_intervalo\u001B[39m():\n\u001B[1;32m      9\u001B[0m     input_intervalo \u001B[38;5;241m=\u001B[39m \u001B[38;5;28minput\u001B[39m(\u001B[38;5;124m\"\u001B[39m\u001B[38;5;124mDigite o intervalo: \u001B[39m\u001B[38;5;124m\"\u001B[39m)\n\u001B[0;32m---> 10\u001B[0m     inicio, fim \u001B[38;5;241m=\u001B[39m [\u001B[38;5;28;43mint\u001B[39;49m\u001B[43m(\u001B[49m\u001B[43mx\u001B[49m\u001B[43m)\u001B[49m \u001B[38;5;28;01mfor\u001B[39;00m x \u001B[38;5;129;01min\u001B[39;00m input_intervalo\u001B[38;5;241m.\u001B[39msplit(sep\u001B[38;5;241m=\u001B[39m\u001B[38;5;124m'\u001B[39m\u001B[38;5;124m \u001B[39m\u001B[38;5;124m'\u001B[39m)]\n\u001B[1;32m     11\u001B[0m     soma(inicio, fim)\n",
      "\u001B[0;31mValueError\u001B[0m: invalid literal for int() with base 10: 'N'"
     ]
    }
   ]
  },
  {
   "cell_type": "markdown",
   "source": [
    "Questão 2"
   ],
   "metadata": {
    "id": "9To0WZZqMFhw"
   }
  },
  {
   "cell_type": "code",
   "source": [
    "def filtrar_repetidos(cadastros):\n",
    "    cadastro_filtrado = {}\n",
    "    for cadastro in cadastros:\n",
    "        if cadastro['CPF'] not in cadastro_filtrado:\n",
    "            cadastro_filtrado[cadastro['CPF']] = [cadastro['nome'], cadastro['idade'], cadastro['cidade']]\n",
    "    return cadastro_filtrado\n",
    "\n",
    "def requisitar_cadastro():\n",
    "    total_cadastros = int(input(\"Digite o total de cadastros a serem feitos: \"))\n",
    "    cadastros = []\n",
    "    for _ in range(total_cadastros):\n",
    "        cadastro = input(\"Digite o cadastro, no formato Nome CPF Idade Cidade\")\n",
    "        nome, cpf, idade, cidade = cadastro.split(sep=' ', maxsplit=3)\n",
    "        print(cadastro)\n",
    "        print(nome, cpf, idade, cidade)\n",
    "        cadastros.append({\n",
    "            \"nome\": nome,\n",
    "            \"CPF\": cpf,\n",
    "            \"idade\": idade,\n",
    "            \"cidade\": cidade\n",
    "        })\n",
    "    filtrados = filtrar_repetidos(cadastros)\n",
    "    print(\"Cadastro filtrado: -\")\n",
    "    for cpf in filtrados:\n",
    "        pass\n",
    "        print(filtrados[cpf][0], cpf, filtrados[cpf][1], filtrados[cpf][2])\n",
    "\n",
    "requisitar_cadastro()"
   ],
   "metadata": {
    "id": "oX4PibxFMG3Z"
   },
   "execution_count": null,
   "outputs": []
  },
  {
   "cell_type": "markdown",
   "source": [
    "Questão 3"
   ],
   "metadata": {
    "id": "Q6YuLTJtMIfQ"
   }
  },
  {
   "cell_type": "code",
   "source": [
    "# Função para calcular a idade média dos jogadores de um time\n",
    "def calcular_idade_media(jogadores):\n",
    "    total_idade = sum(jogador['idade'] for jogador in jogadores)\n",
    "    return total_idade / len(jogadores)\n",
    "\n",
    "# Lista de dados dos jogadores (exemplo)\n",
    "dados = {\n",
    "    \"Time1\": [{\"nome\": \"Jogador1_Time1\", \"idade\": 25}, {\"nome\": \"Jogador2_Time1\", \"idade\": 29}, {\"nome\": \"Jogador3_Time1\", \"idade\": 29}],\n",
    "    \"Time2\": [{\"nome\": \"Jogador1_Time2\", \"idade\": 28}, {\"nome\": \"Jogador2_Time2\", \"idade\": 29}, {\"nome\": \"Jogador3_Time2\", \"idade\": 33}],\n",
    "    \"Time3\": [{\"nome\": \"Jogador1_Time3\", \"idade\": 19}, {\"nome\": \"Jogador2_Time3\", \"idade\": 29}, {\"nome\": \"Jogador3_Time3\", \"idade\": 29}],\n",
    "    \"Time4\": [{\"nome\": \"Jogador1_Time4\", \"idade\": 22}, {\"nome\": \"Jogador2_Time4\", \"idade\": 29}, {\"nome\": \"Jogador3_Time4\", \"idade\": 26}],\n",
    "    \"Time5\": [{\"nome\": \"Jogador1_Time5\", \"idade\": 35}, {\"nome\": \"Jogador2_Time5\", \"idade\": 29}, {\"nome\": \"Jogador3_Time5\", \"idade\": 21}],\n",
    "    \"Time6\": [{\"nome\": \"Jogador1_Time6\", \"idade\": 19}, {\"nome\": \"Jogador2_Time6\", \"idade\": 24}, {\"nome\": \"Jogador3_Time6\", \"idade\": 25}],\n",
    "    \"Time7\": [{\"nome\": \"Jogador1_Time7\", \"idade\": 19}, {\"nome\": \"Jogador2_Time7\", \"idade\": 30}, {\"nome\": \"Jogador3_Time7\", \"idade\": 39}],\n",
    "    \"Time8\": [{\"nome\": \"Jogador1_Time8\", \"idade\": 19}, {\"nome\": \"Jogador2_Time8\", \"idade\": 31}, {\"nome\": \"Jogador3_Time8\", \"idade\": 27}]\n",
    "}\n",
    "\n",
    "# Funciona com um numero arbitrario de jogadores por equipe,\n",
    "# desde que todas tenham a mesma quantidade de jogadores\n",
    "def nro_e_lista_jogadores(dados_times):\n",
    "    lista = []\n",
    "    nro_jogadores = dados_times\n",
    "    for time in dados_times:\n",
    "        nro_jogadores = len(dados_times[time])\n",
    "        lista.extend(dados_times[time])\n",
    "    return nro_jogadores, lista\n",
    "\n",
    "\n",
    "total_jogadores_por_equipe, lista_jogadores = nro_e_lista_jogadores(dados)\n",
    "\n",
    "# Calcular a idade média dos jogadores do 1º e 4º time\n",
    "media_idade_time1 = calcular_idade_media(lista_jogadores[:total_jogadores_por_equipe])\n",
    "media_idade_time4 = calcular_idade_media(lista_jogadores[(3 * total_jogadores_por_equipe): (4*total_jogadores_por_equipe)])\n",
    "\n",
    "print(f\"Idade média dos jogadores do 1º time: {media_idade_time1:.2f}\")\n",
    "print(f\"Idade média dos jogadores do 4º time: {media_idade_time4:.2f}\")"
   ],
   "metadata": {
    "id": "4BwOITmLMJ2i",
    "ExecuteTime": {
     "end_time": "2024-05-21T23:05:35.346853926Z",
     "start_time": "2024-05-21T23:05:35.304211355Z"
    }
   },
   "execution_count": 47,
   "outputs": [
    {
     "name": "stdout",
     "output_type": "stream",
     "text": [
      "Idade média dos jogadores do 1º time: 27.67\n",
      "Idade média dos jogadores do 4º time: 352.33\n"
     ]
    }
   ]
  }
 ]
}
